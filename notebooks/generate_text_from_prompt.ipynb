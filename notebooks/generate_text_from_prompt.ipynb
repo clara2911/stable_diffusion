{
 "cells": [
  {
   "cell_type": "markdown",
   "id": "3cf17598",
   "metadata": {},
   "source": [
    "# Generate text using the Huggingface GPT2 library"
   ]
  },
  {
   "cell_type": "code",
   "execution_count": null,
   "id": "3a859df1",
   "metadata": {},
   "outputs": [],
   "source": [
    "# uncomment in case the huggingface transformers library is not yet installed\n",
    "# !pip install transformers"
   ]
  },
  {
   "cell_type": "code",
   "execution_count": 13,
   "id": "b95dff72",
   "metadata": {},
   "outputs": [],
   "source": [
    "import os\n",
    "from transformers import pipeline, set_seed\n",
    "import tqdm as notebook_tqdm"
   ]
  },
  {
   "cell_type": "code",
   "execution_count": 9,
   "id": "0d5a28c6",
   "metadata": {},
   "outputs": [],
   "source": [
    "prompt = \"The goat was just riding his bicycle through the fields when he saw \"\n",
    "seed = 84\n",
    "num_samples = 5"
   ]
  },
  {
   "cell_type": "code",
   "execution_count": 10,
   "id": "dbf1c474",
   "metadata": {},
   "outputs": [],
   "source": [
    "set_seed(seed)"
   ]
  },
  {
   "cell_type": "code",
   "execution_count": 11,
   "id": "2c7d6682",
   "metadata": {},
   "outputs": [
    {
     "name": "stderr",
     "output_type": "stream",
     "text": [
      "Setting `pad_token_id` to `eos_token_id`:50256 for open-end generation.\n"
     ]
    }
   ],
   "source": [
    "generator = pipeline('text-generation', model='gpt2')\n",
    "generated_samples = generator(prompt, max_length=100, num_return_sequences=5)"
   ]
  },
  {
   "cell_type": "code",
   "execution_count": 16,
   "id": "8c8cfb98",
   "metadata": {},
   "outputs": [
    {
     "name": "stdout",
     "output_type": "stream",
     "text": [
      "\n",
      " 0 \n",
      " The goat was just riding his bicycle through the fields when he saw ursine and red cows as he was passing through the field; and it was the last cow on the road to kill him.\n",
      "\"My eyes widened and a deep pain in my heart stopped me,\" he said.\n",
      "At last, he tried to take his hands to his mouth to bring his words back, but they were too loud.\n",
      " The cow was very tired and he kept coughing, but he managed to swallow\n",
      "\n",
      " 1 \n",
      " The goat was just riding his bicycle through the fields when he saw ichthyologist Dr.\n",
      " Tami.\n",
      "Shoohyoshi's doctor had just left the clinic for a trip to the hospital and noticed a cat, a leopard and a shark.\n",
      " \"He was so cute when he saw all of these small animals,\" he says.\n",
      " \"So he called me and told me he had no idea how large the animals were.\n",
      " Then when I got there, he asked how big the\n",
      "\n",
      " 2 \n",
      " The goat was just riding his bicycle through the fields when he saw ????? A red man wearing a red skull in the road, who looked like a goat, was speeding right over.\n",
      "It's not easy when your animal is on such a low speed, but we just knew so much more about it.\n",
      " We took his picture, and we made it through the fields the following day in a clear and unmarked pickup truck, because we loved the goat so much.\n",
      " We took it down by\n",
      "\n",
      " 3 \n",
      " The goat was just riding his bicycle through the fields when he saw ursine-like things.\n",
      " The cow wasn't sure if it had eaten the deer or not and it was not sure when to stop.\n",
      " He had to continue to wait and he did what was best for the goat.\n",
      "As the goat walked along and crossed the fields I could hear a heavy buzzing in the background.\n",
      " My heart jumped as though it was taking a toll by now.\n",
      " It started to get more worried and started\n",
      "\n",
      " 4 \n",
      " The goat was just riding his bicycle through the fields when he saw  a small, unassuming male goat.\n",
      " The large cow looked at him and laughed as he stared into his eyes.\n",
      " As he looked up, a little girl who had only been a little girl when he was an immature goat appeared beside him, shaking hands with him.\n",
      "  That boy was a beautiful young girl called Ria.\n",
      "  After the girl smiled at him, Ria went and grabbed the goat.\n",
      " After R\n"
     ]
    }
   ],
   "source": [
    "for i in range(num_samples):\n",
    "    generated_sample = generated_samples[i]['generated_text']\n",
    "    generated_sample = generated_sample.replace(\"\\n\", \"\").replace(\".\", \".\\n\") # remove & add linebreaks for readability\n",
    "    print(f\"\\n {i} \\n {generated_sample}\")\n",
    "    \n",
    "    with open(os.path.join(\"..\", \"generated_output\", f\"{i}_{'_'.join(prompt.split())}.txt\"), \"w\") as f:\n",
    "        f.write(generated_sample)"
   ]
  }
 ],
 "metadata": {
  "kernelspec": {
   "display_name": "stable-diffusion",
   "language": "python",
   "name": "stable-diffusion"
  },
  "language_info": {
   "codemirror_mode": {
    "name": "ipython",
    "version": 3
   },
   "file_extension": ".py",
   "mimetype": "text/x-python",
   "name": "python",
   "nbconvert_exporter": "python",
   "pygments_lexer": "ipython3",
   "version": "3.10.6"
  }
 },
 "nbformat": 4,
 "nbformat_minor": 5
}
