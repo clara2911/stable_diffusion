{
 "cells": [
  {
   "cell_type": "markdown",
   "id": "3cf17598",
   "metadata": {},
   "source": [
    "# Generate text using the Huggingface GPT2 library"
   ]
  },
  {
   "cell_type": "code",
   "execution_count": null,
   "id": "3a859df1",
   "metadata": {},
   "outputs": [],
   "source": [
    "# uncomment in case the huggingface transformers library is not yet installed\n",
    "# !pip install transformers"
   ]
  },
  {
   "cell_type": "code",
   "execution_count": 11,
   "id": "b95dff72",
   "metadata": {},
   "outputs": [],
   "source": [
    "import os\n",
    "from transformers import pipeline, set_seed\n",
    "import tqdm as notebook_tqdm"
   ]
  },
  {
   "cell_type": "code",
   "execution_count": 19,
   "id": "0d5a28c6",
   "metadata": {},
   "outputs": [],
   "source": [
    "prompt = \"The goat was just riding his bicycle through the fields when he saw \"\n",
    "seed = 91\n",
    "num_samples = 10\n",
    "max_length = 150"
   ]
  },
  {
   "cell_type": "code",
   "execution_count": 20,
   "id": "dbf1c474",
   "metadata": {},
   "outputs": [],
   "source": [
    "set_seed(seed)"
   ]
  },
  {
   "cell_type": "code",
   "execution_count": 21,
   "id": "2c7d6682",
   "metadata": {},
   "outputs": [
    {
     "name": "stderr",
     "output_type": "stream",
     "text": [
      "Setting `pad_token_id` to `eos_token_id`:50256 for open-end generation.\n"
     ]
    }
   ],
   "source": [
    "generator = pipeline('text-generation', model='gpt2')\n",
    "generated_samples = generator(prompt, max_length=max_length, num_return_sequences=num_samples)"
   ]
  },
  {
   "cell_type": "code",
   "execution_count": null,
   "id": "8c8cfb98",
   "metadata": {},
   "outputs": [],
   "source": [
    "for i in range(num_samples):\n",
    "    generated_sample = generated_samples[i]['generated_text']\n",
    "    generated_sample = generated_sample.replace(\"\\n\", \"\").replace(\".\", \".\\n\") # remove & add linebreaks for readability\n",
    "    print(f\"\\n {i} \\n {generated_sample}\")\n",
    "    \n",
    "    with open(os.path.join(\"..\", \"generated_output\", f\"{i}_{'_'.join(prompt.split())}.txt\"), \"w\") as f:\n",
    "        f.write(generated_sample)"
   ]
  }
 ],
 "metadata": {
  "kernelspec": {
   "display_name": "stable-diffusion",
   "language": "python",
   "name": "stable-diffusion"
  },
  "language_info": {
   "codemirror_mode": {
    "name": "ipython",
    "version": 3
   },
   "file_extension": ".py",
   "mimetype": "text/x-python",
   "name": "python",
   "nbconvert_exporter": "python",
   "pygments_lexer": "ipython3",
   "version": "3.10.6"
  }
 },
 "nbformat": 4,
 "nbformat_minor": 5
}
