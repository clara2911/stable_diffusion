{
 "cells": [
  {
   "cell_type": "markdown",
   "id": "3cf17598",
   "metadata": {},
   "source": [
    "# Generate text using the Huggingface GPT2 library"
   ]
  },
  {
   "cell_type": "code",
   "execution_count": null,
   "id": "3a859df1",
   "metadata": {},
   "outputs": [],
   "source": [
    "# uncomment in case the huggingface transformers library is not yet installed\n",
    "# !pip install transformers"
   ]
  },
  {
   "cell_type": "code",
   "execution_count": 4,
   "id": "b95dff72",
   "metadata": {},
   "outputs": [],
   "source": [
    "from transformers import pipeline, set_seed\n",
    "import tqdm as notebook_tqdm"
   ]
  },
  {
   "cell_type": "code",
   "execution_count": 9,
   "id": "0d5a28c6",
   "metadata": {},
   "outputs": [],
   "source": [
    "prompt = \"The goat was just riding his bicycle through the fields when he saw \"\n",
    "seed = 84\n",
    "num_samples = 5"
   ]
  },
  {
   "cell_type": "code",
   "execution_count": 6,
   "id": "dbf1c474",
   "metadata": {},
   "outputs": [],
   "source": [
    "set_seed(seed)"
   ]
  },
  {
   "cell_type": "code",
   "execution_count": 7,
   "id": "2c7d6682",
   "metadata": {},
   "outputs": [
    {
     "name": "stderr",
     "output_type": "stream",
     "text": [
      "Downloading: 100%|██████████████████████████████████████████████████████████████████████████████████████████████████████████████████| 665/665 [00:00<?, ?B/s]\n",
      "C:\\Users\\ClaraTump\\anaconda3\\envs\\stable_diffusion\\lib\\site-packages\\huggingface_hub\\file_download.py:123: UserWarning: `huggingface_hub` cache-system uses symlinks by default to efficiently store duplicated files but your machine does not support them in C:\\Users\\ClaraTump\\.cache\\huggingface\\hub. Caching files will still work but in a degraded version that might require more space on your disk. This warning can be disabled by setting the `HF_HUB_DISABLE_SYMLINKS_WARNING` environment variable. For more details, see https://huggingface.co/docs/huggingface_hub/how-to-cache#limitations.\n",
      "To support symlinks on Windows, you either need to activate Developer Mode or to run Python as an administrator. In order to see activate developer mode, see this article: https://docs.microsoft.com/en-us/windows/apps/get-started/enable-your-device-for-development\n",
      "  warnings.warn(message)\n",
      "Downloading: 100%|████████████████████████████████████████████████████████████████████████████████████████████████████████| 548M/548M [01:29<00:00, 6.12MB/s]\n",
      "Downloading: 100%|███████████████████████████████████████████████████████████████████████████████████████████████████████| 1.04M/1.04M [00:02<00:00, 468kB/s]\n",
      "Downloading: 100%|█████████████████████████████████████████████████████████████████████████████████████████████████████████| 456k/456k [00:01<00:00, 419kB/s]\n",
      "Downloading: 100%|███████████████████████████████████████████████████████████████████████████████████████████████████████| 1.36M/1.36M [00:02<00:00, 581kB/s]\n",
      "Setting `pad_token_id` to `eos_token_id`:50256 for open-end generation.\n"
     ]
    }
   ],
   "source": [
    "generator = pipeline('text-generation', model='gpt2')\n",
    "generated_samples = generator(prompt, max_length=100, num_return_sequences=5)"
   ]
  },
  {
   "cell_type": "code",
   "execution_count": 10,
   "id": "8c8cfb98",
   "metadata": {},
   "outputs": [
    {
     "name": "stdout",
     "output_type": "stream",
     "text": [
      "\n",
      " 1 \n",
      " The goat was just riding his bicycle through the fields when he saw ursine and red cows as he was passing through the field; and it was the last cow on the road to kill him.\n",
      "\"My eyes widened and a deep pain in my heart stopped me,\" he said.\n",
      "At last, he tried to take his hands to his mouth to bring his words back, but they were too loud.\n",
      " The cow was very tired and he kept coughing, but he managed to swallow\n",
      "\n",
      " 2 \n",
      " The goat was just riding his bicycle through the fields when he saw ichthyologist Dr.\n",
      " Tami.\n",
      "Shoohyoshi's doctor had just left the clinic for a trip to the hospital and noticed a cat, a leopard and a shark.\n",
      " \"He was so cute when he saw all of these small animals,\" he says.\n",
      " \"So he called me and told me he had no idea how large the animals were.\n",
      " Then when I got there, he asked how big the\n",
      "\n",
      " 3 \n",
      " The goat was just riding his bicycle through the fields when he saw ????? A red man wearing a red skull in the road, who looked like a goat, was speeding right over.\n",
      "It's not easy when your animal is on such a low speed, but we just knew so much more about it.\n",
      " We took his picture, and we made it through the fields the following day in a clear and unmarked pickup truck, because we loved the goat so much.\n",
      " We took it down by\n",
      "\n",
      " 4 \n",
      " The goat was just riding his bicycle through the fields when he saw ursine-like things.\n",
      " The cow wasn't sure if it had eaten the deer or not and it was not sure when to stop.\n",
      " He had to continue to wait and he did what was best for the goat.\n",
      "As the goat walked along and crossed the fields I could hear a heavy buzzing in the background.\n",
      " My heart jumped as though it was taking a toll by now.\n",
      " It started to get more worried and started\n",
      "\n",
      " 5 \n",
      " The goat was just riding his bicycle through the fields when he saw  a small, unassuming male goat.\n",
      " The large cow looked at him and laughed as he stared into his eyes.\n",
      " As he looked up, a little girl who had only been a little girl when he was an immature goat appeared beside him, shaking hands with him.\n",
      "  That boy was a beautiful young girl called Ria.\n",
      "  After the girl smiled at him, Ria went and grabbed the goat.\n",
      " After R\n"
     ]
    }
   ],
   "source": [
    "for i in range(num_samples):\n",
    "    generated_sample = generated_samples[i]['generated_text']\n",
    "    generated_sample = generated_sample.replace(\"\\n\", \"\").replace(\".\", \".\\n\") # remove & add linebreaks for readability\n",
    "    print(f\"\\n {i+1} \\n {generated_sample}\")"
   ]
  }
 ],
 "metadata": {
  "kernelspec": {
   "display_name": "stable-diffusion",
   "language": "python",
   "name": "stable-diffusion"
  },
  "language_info": {
   "codemirror_mode": {
    "name": "ipython",
    "version": 3
   },
   "file_extension": ".py",
   "mimetype": "text/x-python",
   "name": "python",
   "nbconvert_exporter": "python",
   "pygments_lexer": "ipython3",
   "version": "3.10.6"
  }
 },
 "nbformat": 4,
 "nbformat_minor": 5
}
