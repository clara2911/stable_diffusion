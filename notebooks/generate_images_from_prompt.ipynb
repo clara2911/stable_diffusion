{
 "cells": [
  {
   "cell_type": "markdown",
   "id": "505c9262",
   "metadata": {},
   "source": [
    "# **Generate images from a text prompt using Hugging Face's Stable Diffusion pipeline**"
   ]
  },
  {
   "cell_type": "code",
   "execution_count": 2,
   "id": "32022679",
   "metadata": {},
   "outputs": [],
   "source": [
    "# Uncomment below if one or more of these packages are not yet installed\n",
    "# !pip install diffusers==0.4.0 transformers scipy ftfy"
   ]
  },
  {
   "cell_type": "markdown",
   "id": "4bce2c3d",
   "metadata": {},
   "source": [
    "1. Imports"
   ]
  },
  {
   "cell_type": "code",
   "execution_count": 9,
   "id": "a9b7c386",
   "metadata": {},
   "outputs": [],
   "source": [
    "import os\n",
    "from diffusers import StableDiffusionPipeline\n",
    "import torch\n",
    "from pathlib import Path\n",
    "from PIL import Image\n",
    "import tqdm as notebook_tqdm"
   ]
  },
  {
   "cell_type": "markdown",
   "id": "896e2e77",
   "metadata": {},
   "source": [
    "2. get the prompt based on which the images are generated"
   ]
  },
  {
   "cell_type": "code",
   "execution_count": 10,
   "id": "6ad01f2c",
   "metadata": {},
   "outputs": [],
   "source": [
    "prompt = \"a goat on a bicycle\" "
   ]
  },
  {
   "cell_type": "markdown",
   "id": "591af145",
   "metadata": {},
   "source": [
    "3. Define variables needed by the authentication, diffusion model and image visualization"
   ]
  },
  {
   "cell_type": "code",
   "execution_count": 13,
   "id": "4529843e",
   "metadata": {},
   "outputs": [],
   "source": [
    "huggingface_token_filepath = os.path.join('..', 'huggingface_token.txt') # see https://huggingface.co/docs/hub/security-tokens\n",
    "num_inference_steps = 12 # number of steps for the stable diffusion model. The more the higher the quality\n",
    "num_images = 2 # number of images to generate (they will be shown in a grid alongside each other)\n",
    "width_images = 512 # the width (in pixels) of the generated images\n",
    "height_images = 512 # the height (in pixels) of the generated images"
   ]
  },
  {
   "cell_type": "markdown",
   "id": "2d70731d",
   "metadata": {},
   "source": [
    "4. function for showing the generated images in a grid"
   ]
  },
  {
   "cell_type": "code",
   "execution_count": 14,
   "id": "1da81cce",
   "metadata": {},
   "outputs": [],
   "source": [
    "def image_grid(imgs, rows, cols):\n",
    "    \"\"\" \n",
    "    Show the created images in a grid\n",
    "    \"\"\"\n",
    "    assert len(imgs) == rows*cols\n",
    "\n",
    "    w, h = imgs[0].size\n",
    "    grid = Image.new('RGB', size=(cols*w, rows*h))\n",
    "    grid_w, grid_h = grid.size\n",
    "    \n",
    "    for i, img in enumerate(imgs):\n",
    "        grid.paste(img, box=(i%cols*w, i//cols*h))\n",
    "    return grid"
   ]
  },
  {
   "cell_type": "markdown",
   "id": "08be04a0",
   "metadata": {},
   "source": [
    "5. Load the pretrained stable diffusion model pipeline"
   ]
  },
  {
   "cell_type": "code",
   "execution_count": 15,
   "id": "8b5c7058",
   "metadata": {},
   "outputs": [
    {
     "name": "stderr",
     "output_type": "stream",
     "text": [
      "Fetching 16 files: 100%|████████████████████████████████████████████████████████████████████████████████████████████████████| 16/16 [00:00<00:00, 826.41it/s]\n"
     ]
    }
   ],
   "source": [
    "huggingface_token = Path(huggingface_token_filepath).read_text()\n",
    "pipe = StableDiffusionPipeline.from_pretrained(\"CompVis/stable-diffusion-v1-4\", use_auth_token=huggingface_token)"
   ]
  },
  {
   "cell_type": "markdown",
   "id": "8d303304",
   "metadata": {},
   "source": [
    "6. Generate images based on the prompt!"
   ]
  },
  {
   "cell_type": "code",
   "execution_count": 16,
   "id": "1a49808e",
   "metadata": {},
   "outputs": [
    {
     "name": "stderr",
     "output_type": "stream",
     "text": [
      "100%|██████████████████████████████████████████████████████████████████████████████████████████████████████████████████████████| 1/1 [00:01<00:00,  1.01s/it]\n"
     ]
    }
   ],
   "source": [
    "prompts = [prompt] * num_images\n",
    "images = pipe(prompts, num_inference_steps=num_inference_steps, height=height_images, width=width_images).images\n",
    "grid = image_grid(images, rows=1, cols=num_images)\n",
    "grid.save(os.path.join('..', 'generated_output', f'{\"_\".join(prompt.split())}.png'))"
   ]
  }
 ],
 "metadata": {
  "kernelspec": {
   "display_name": "stable-diffusion",
   "language": "python",
   "name": "stable-diffusion"
  },
  "language_info": {
   "codemirror_mode": {
    "name": "ipython",
    "version": 3
   },
   "file_extension": ".py",
   "mimetype": "text/x-python",
   "name": "python",
   "nbconvert_exporter": "python",
   "pygments_lexer": "ipython3",
   "version": "3.10.6"
  }
 },
 "nbformat": 4,
 "nbformat_minor": 5
}
